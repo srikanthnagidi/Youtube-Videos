{
 "cells": [
  {
   "cell_type": "code",
   "execution_count": 1,
   "metadata": {},
   "outputs": [],
   "source": [
    "import requests\n",
    "import json\n",
    "import numpy as np\n",
    "from bs4 import BeautifulSoup"
   ]
  },
  {
   "cell_type": "code",
   "execution_count": 2,
   "metadata": {},
   "outputs": [],
   "source": [
    "from lxml import html\n",
    "import pandas as pd\n",
    "from urllib.request import Request, urlopen"
   ]
  },
  {
   "cell_type": "code",
   "execution_count": 3,
   "metadata": {},
   "outputs": [],
   "source": [
    "from fake_useragent import UserAgent\n",
    "ua = UserAgent() # From here we generate a random user agent\n",
    "proxies = [] # Will contain proxies [ip, port]"
   ]
  },
  {
   "cell_type": "code",
   "execution_count": 4,
   "metadata": {},
   "outputs": [],
   "source": [
    "def getProx():\n",
    "    proxies_req = Request('https://www.sslproxies.org/')\n",
    "    proxies_req.add_header('User-Agent', ua.random)\n",
    "    proxies_doc = urlopen(proxies_req).read().decode('utf8')\n",
    "    soup = BeautifulSoup(proxies_doc, 'html.parser')\n",
    "    proxies_table = soup.find(id='proxylisttable')\n",
    "         # Save proxies in the array\n",
    "    global proxies\n",
    "    proxies=[]\n",
    "    for row in proxies_table.tbody.find_all('tr'):\n",
    "        proxies.append({\n",
    "        'ip':   row.find_all('td')[0].string,\n",
    "        'port': row.find_all('td')[1].string\n",
    "      })\n",
    "    print(len(proxies))\n",
    "    print(proxies)"
   ]
  },
  {
   "cell_type": "code",
   "execution_count": 5,
   "metadata": {},
   "outputs": [
    {
     "name": "stdout",
     "output_type": "stream",
     "text": [
      "100\n",
      "[{'ip': '186.147.161.171', 'port': '39070'}, {'ip': '167.99.67.234', 'port': '3128'}, {'ip': '185.14.6.134', 'port': '8080'}, {'ip': '191.102.82.94', 'port': '9991'}, {'ip': '82.114.241.138', 'port': '8080'}, {'ip': '202.21.101.130', 'port': '50141'}, {'ip': '165.227.36.97', 'port': '3128'}, {'ip': '41.50.86.25', 'port': '46143'}, {'ip': '131.221.120.196', 'port': '48067'}, {'ip': '119.82.253.47', 'port': '39852'}, {'ip': '187.120.253.119', 'port': '31674'}, {'ip': '96.9.86.170', 'port': '23500'}, {'ip': '41.170.83.205', 'port': '33925'}, {'ip': '103.43.43.103', 'port': '33370'}, {'ip': '95.217.44.145', 'port': '8080'}, {'ip': '1.20.101.62', 'port': '61405'}, {'ip': '109.86.207.1', 'port': '32796'}, {'ip': '170.82.231.26', 'port': '61222'}, {'ip': '203.210.84.212', 'port': '48187'}, {'ip': '113.160.234.147', 'port': '40289'}, {'ip': '187.190.237.113', 'port': '32509'}, {'ip': '176.120.37.82', 'port': '59365'}, {'ip': '134.236.255.6', 'port': '54623'}, {'ip': '46.101.21.11', 'port': '3128'}, {'ip': '36.72.73.7', 'port': '8080'}, {'ip': '119.82.252.115', 'port': '49085'}, {'ip': '115.77.191.180', 'port': '53281'}, {'ip': '185.68.153.147', 'port': '53926'}, {'ip': '213.251.243.98', 'port': '53147'}, {'ip': '116.0.2.94', 'port': '59680'}, {'ip': '103.100.129.19', 'port': '8080'}, {'ip': '194.79.23.170', 'port': '8080'}, {'ip': '46.219.80.142', 'port': '38954'}, {'ip': '43.245.202.120', 'port': '41592'}, {'ip': '201.202.246.162', 'port': '53281'}, {'ip': '151.106.8.230', 'port': '8080'}, {'ip': '110.5.100.130', 'port': '36931'}, {'ip': '109.86.225.33', 'port': '41743'}, {'ip': '184.22.5.233', 'port': '8080'}, {'ip': '202.0.107.126', 'port': '8080'}, {'ip': '45.76.154.245', 'port': '3128'}, {'ip': '96.9.83.85', 'port': '35580'}, {'ip': '103.243.82.227', 'port': '31612'}, {'ip': '143.255.40.30', 'port': '52116'}, {'ip': '5.141.244.52', 'port': '51014'}, {'ip': '182.52.51.31', 'port': '54134'}, {'ip': '103.51.26.233', 'port': '30867'}, {'ip': '118.174.196.185', 'port': '45761'}, {'ip': '1.34.120.197', 'port': '51635'}, {'ip': '182.53.206.47', 'port': '47592'}, {'ip': '177.53.59.96', 'port': '58813'}, {'ip': '36.89.41.26', 'port': '55656'}, {'ip': '103.250.157.40', 'port': '35101'}, {'ip': '36.89.10.51', 'port': '34115'}, {'ip': '94.187.213.251', 'port': '42426'}, {'ip': '190.94.18.210', 'port': '53281'}, {'ip': '79.106.35.253', 'port': '8080'}, {'ip': '64.17.30.238', 'port': '63141'}, {'ip': '109.101.139.126', 'port': '57692'}, {'ip': '83.174.203.222', 'port': '38583'}, {'ip': '182.52.74.76', 'port': '34084'}, {'ip': '37.57.129.4', 'port': '4444'}, {'ip': '27.111.38.102', 'port': '50874'}, {'ip': '185.13.35.178', 'port': '40654'}, {'ip': '182.48.87.170', 'port': '8080'}, {'ip': '190.216.224.39', 'port': '43011'}, {'ip': '182.253.204.155', 'port': '57463'}, {'ip': '182.253.191.85', 'port': '8080'}, {'ip': '185.24.34.253', 'port': '53281'}, {'ip': '212.72.133.212', 'port': '47960'}, {'ip': '109.86.184.131', 'port': '48735'}, {'ip': '202.166.196.34', 'port': '56960'}, {'ip': '18.222.249.14', 'port': '80'}, {'ip': '200.255.122.170', 'port': '8080'}, {'ip': '88.212.31.11', 'port': '37447'}, {'ip': '159.69.211.173', 'port': '3128'}, {'ip': '125.209.82.78', 'port': '35087'}, {'ip': '202.58.199.156', 'port': '61108'}, {'ip': '94.230.158.5', 'port': '44337'}, {'ip': '191.7.194.179', 'port': '40335'}, {'ip': '103.231.242.242', 'port': '80'}, {'ip': '212.205.112.162', 'port': '57205'}, {'ip': '118.174.220.39', 'port': '45771'}, {'ip': '85.94.24.67', 'port': '8080'}, {'ip': '94.130.20.85', 'port': '31288'}, {'ip': '159.16.106.110', 'port': '80'}, {'ip': '179.125.25.218', 'port': '47785'}, {'ip': '188.235.138.182', 'port': '34467'}, {'ip': '117.58.241.222', 'port': '61303'}, {'ip': '195.91.128.107', 'port': '49146'}, {'ip': '24.226.146.46', 'port': '30637'}, {'ip': '178.88.119.150', 'port': '60346'}, {'ip': '104.222.110.66', 'port': '23500'}, {'ip': '95.47.116.129', 'port': '50831'}, {'ip': '197.242.206.64', 'port': '44994'}, {'ip': '103.75.162.68', 'port': '44850'}, {'ip': '111.92.243.154', 'port': '45639'}, {'ip': '41.75.211.203', 'port': '46248'}, {'ip': '185.17.18.133', 'port': '53281'}, {'ip': '1.20.99.44', 'port': '32119'}]\n"
     ]
    }
   ],
   "source": [
    "getProx()"
   ]
  },
  {
   "cell_type": "code",
   "execution_count": 6,
   "metadata": {},
   "outputs": [],
   "source": [
    "import random\n",
    "proxy_index = random.randint(0, len(proxies) - 1)\n",
    "proxy = proxies[proxy_index] \n",
    "req = Request('http://icanhazip.com')\n",
    "req.set_proxy(proxy['ip'] + ':' + proxy['port'], 'http')"
   ]
  },
  {
   "cell_type": "code",
   "execution_count": 7,
   "metadata": {},
   "outputs": [],
   "source": [
    "df =pd.read_csv(\"altmetricIDS.csv\", header=None)"
   ]
  },
  {
   "cell_type": "code",
   "execution_count": 8,
   "metadata": {},
   "outputs": [
    {
     "data": {
      "text/html": [
       "<div>\n",
       "<style scoped>\n",
       "    .dataframe tbody tr th:only-of-type {\n",
       "        vertical-align: middle;\n",
       "    }\n",
       "\n",
       "    .dataframe tbody tr th {\n",
       "        vertical-align: top;\n",
       "    }\n",
       "\n",
       "    .dataframe thead th {\n",
       "        text-align: right;\n",
       "    }\n",
       "</style>\n",
       "<table border=\"1\" class=\"dataframe\">\n",
       "  <thead>\n",
       "    <tr style=\"text-align: right;\">\n",
       "      <th></th>\n",
       "      <th>Altmetrics_Id</th>\n",
       "    </tr>\n",
       "  </thead>\n",
       "  <tbody>\n",
       "    <tr>\n",
       "      <th>0</th>\n",
       "      <td>702709</td>\n",
       "    </tr>\n",
       "    <tr>\n",
       "      <th>1</th>\n",
       "      <td>403270</td>\n",
       "    </tr>\n",
       "    <tr>\n",
       "      <th>2</th>\n",
       "      <td>2394296</td>\n",
       "    </tr>\n",
       "    <tr>\n",
       "      <th>3</th>\n",
       "      <td>632123</td>\n",
       "    </tr>\n",
       "    <tr>\n",
       "      <th>4</th>\n",
       "      <td>411425</td>\n",
       "    </tr>\n",
       "  </tbody>\n",
       "</table>\n",
       "</div>"
      ],
      "text/plain": [
       "   Altmetrics_Id\n",
       "0         702709\n",
       "1         403270\n",
       "2        2394296\n",
       "3         632123\n",
       "4         411425"
      ]
     },
     "execution_count": 8,
     "metadata": {},
     "output_type": "execute_result"
    }
   ],
   "source": [
    "df.columns = ['Altmetrics_Id']\n",
    "df.head()"
   ]
  },
  {
   "cell_type": "code",
   "execution_count": 9,
   "metadata": {},
   "outputs": [
    {
     "data": {
      "text/html": [
       "<div>\n",
       "<style scoped>\n",
       "    .dataframe tbody tr th:only-of-type {\n",
       "        vertical-align: middle;\n",
       "    }\n",
       "\n",
       "    .dataframe tbody tr th {\n",
       "        vertical-align: top;\n",
       "    }\n",
       "\n",
       "    .dataframe thead th {\n",
       "        text-align: right;\n",
       "    }\n",
       "</style>\n",
       "<table border=\"1\" class=\"dataframe\">\n",
       "  <thead>\n",
       "    <tr style=\"text-align: right;\">\n",
       "      <th></th>\n",
       "      <th>Altmetrics_Id</th>\n",
       "      <th>youtube_links</th>\n",
       "    </tr>\n",
       "  </thead>\n",
       "  <tbody>\n",
       "    <tr>\n",
       "      <th>0</th>\n",
       "      <td>702709</td>\n",
       "      <td></td>\n",
       "    </tr>\n",
       "    <tr>\n",
       "      <th>1</th>\n",
       "      <td>403270</td>\n",
       "      <td></td>\n",
       "    </tr>\n",
       "    <tr>\n",
       "      <th>2</th>\n",
       "      <td>2394296</td>\n",
       "      <td></td>\n",
       "    </tr>\n",
       "    <tr>\n",
       "      <th>3</th>\n",
       "      <td>632123</td>\n",
       "      <td></td>\n",
       "    </tr>\n",
       "    <tr>\n",
       "      <th>4</th>\n",
       "      <td>411425</td>\n",
       "      <td></td>\n",
       "    </tr>\n",
       "  </tbody>\n",
       "</table>\n",
       "</div>"
      ],
      "text/plain": [
       "   Altmetrics_Id youtube_links\n",
       "0         702709              \n",
       "1         403270              \n",
       "2        2394296              \n",
       "3         632123              \n",
       "4         411425              "
      ]
     },
     "execution_count": 9,
     "metadata": {},
     "output_type": "execute_result"
    }
   ],
   "source": [
    "df[\"youtube_links\"] = \"\"\n",
    "df.head()"
   ]
  },
  {
   "cell_type": "code",
   "execution_count": 10,
   "metadata": {},
   "outputs": [
    {
     "data": {
      "text/plain": [
       "1969481"
      ]
     },
     "execution_count": 10,
     "metadata": {},
     "output_type": "execute_result"
    }
   ],
   "source": [
    "ids = np.array(df['Altmetrics_Id'])\n",
    "ids[5255]"
   ]
  },
  {
   "cell_type": "code",
   "execution_count": null,
   "metadata": {},
   "outputs": [],
   "source": [
    "alt_param  = {\"key\" : \"\"}"
   ]
  },
  {
   "cell_type": "code",
   "execution_count": null,
   "metadata": {},
   "outputs": [],
   "source": [
    "all_alt_data = requests.get(\"https://api.altmetric.com/v1/id/1969481\", alt_param )"
   ]
  },
  {
   "cell_type": "code",
   "execution_count": null,
   "metadata": {},
   "outputs": [],
   "source": [
    "alt_data = json.loads(all_alt_data.text)\n",
    "alt_data.keys()"
   ]
  },
  {
   "cell_type": "code",
   "execution_count": null,
   "metadata": {},
   "outputs": [],
   "source": [
    "y_links = []\n",
    "html = requests.get('https://www.altmetric.com/details/' + str(403270) + '/video', alt_param).text\n",
    "bs = BeautifulSoup(html)\n",
    "possible_links = bs.find_all('a')\n",
    "for link in possible_links:\n",
    "    if link.has_attr('href') and 'youtube' in link.attrs['href']:\n",
    "        y_links.append(link.attrs['href'])\n",
    "y_links"
   ]
  },
  {
   "cell_type": "code",
   "execution_count": 11,
   "metadata": {},
   "outputs": [],
   "source": [
    "from selenium import webdriver\n",
    "from selenium.webdriver.common.keys import Keys\n",
    "from selenium.common.exceptions import NoSuchElementException\n",
    "from selenium.common import exceptions"
   ]
  },
  {
   "cell_type": "code",
   "execution_count": 12,
   "metadata": {},
   "outputs": [],
   "source": [
    "chrome = webdriver.Chrome('C:/ProgramData/chocolatey/bin/chromedriver.exe')"
   ]
  },
  {
   "cell_type": "code",
   "execution_count": 13,
   "metadata": {},
   "outputs": [],
   "source": [
    "chrome.get('https://www.altmetric.com/details/403270/video')"
   ]
  },
  {
   "cell_type": "code",
   "execution_count": 14,
   "metadata": {},
   "outputs": [],
   "source": [
    "def get_all_pages(main_link):\n",
    "    myset= set()\n",
    "    chrome.get(main_link)\n",
    "    elements = chrome.find_elements_by_xpath(\"//a[@href]\")\n",
    "    for elem in elements:\n",
    "        if \"video/page:\" in elem.get_attribute(\"href\"):\n",
    "            myset.add(elem.get_attribute(\"href\"))\n",
    "    return myset"
   ]
  },
  {
   "cell_type": "code",
   "execution_count": 15,
   "metadata": {},
   "outputs": [],
   "source": [
    "def get_youtube_ids(link):\n",
    "    y_links = []\n",
    "    chrome.get(link)\n",
    "    elements = chrome.find_elements_by_xpath(\"//a[@href]\")\n",
    "    for elem in elements:\n",
    "        if \"youtube\" in elem.get_attribute(\"href\"):\n",
    "            y_links.append(elem.get_attribute(\"href\")[32:])\n",
    "    return y_links"
   ]
  },
  {
   "cell_type": "code",
   "execution_count": 20,
   "metadata": {},
   "outputs": [
    {
     "ename": "StaleElementReferenceException",
     "evalue": "Message: stale element reference: element is not attached to the page document\n  (Session info: chrome=75.0.3770.100)\n",
     "output_type": "error",
     "traceback": [
      "\u001b[1;31m---------------------------------------------------------------------------\u001b[0m",
      "\u001b[1;31mStaleElementReferenceException\u001b[0m            Traceback (most recent call last)",
      "\u001b[1;32m<ipython-input-20-2e90a315e054>\u001b[0m in \u001b[0;36m<module>\u001b[1;34m\u001b[0m\n\u001b[0;32m      4\u001b[0m     \u001b[0mmyset\u001b[0m \u001b[1;33m=\u001b[0m \u001b[0mget_all_pages\u001b[0m\u001b[1;33m(\u001b[0m\u001b[1;34m'https://www.altmetric.com/details/'\u001b[0m \u001b[1;33m+\u001b[0m \u001b[0mstr\u001b[0m\u001b[1;33m(\u001b[0m\u001b[0mids\u001b[0m\u001b[1;33m[\u001b[0m\u001b[0mi\u001b[0m\u001b[1;33m]\u001b[0m\u001b[1;33m)\u001b[0m \u001b[1;33m+\u001b[0m \u001b[1;34m'/video'\u001b[0m\u001b[1;33m)\u001b[0m\u001b[1;33m\u001b[0m\u001b[1;33m\u001b[0m\u001b[0m\n\u001b[0;32m      5\u001b[0m     \u001b[1;32mfor\u001b[0m \u001b[0mlink\u001b[0m \u001b[1;32min\u001b[0m \u001b[0mmyset\u001b[0m\u001b[1;33m:\u001b[0m\u001b[1;33m\u001b[0m\u001b[1;33m\u001b[0m\u001b[0m\n\u001b[1;32m----> 6\u001b[1;33m         \u001b[0my_links\u001b[0m\u001b[1;33m.\u001b[0m\u001b[0mextend\u001b[0m\u001b[1;33m(\u001b[0m\u001b[0mget_youtube_ids\u001b[0m\u001b[1;33m(\u001b[0m\u001b[0mlink\u001b[0m\u001b[1;33m)\u001b[0m\u001b[1;33m)\u001b[0m\u001b[1;33m\u001b[0m\u001b[1;33m\u001b[0m\u001b[0m\n\u001b[0m\u001b[0;32m      7\u001b[0m     \u001b[0mdf\u001b[0m\u001b[1;33m.\u001b[0m\u001b[0mat\u001b[0m\u001b[1;33m[\u001b[0m\u001b[0mi\u001b[0m\u001b[1;33m,\u001b[0m \u001b[1;34m'youtube_links'\u001b[0m\u001b[1;33m]\u001b[0m \u001b[1;33m=\u001b[0m \u001b[0my_links\u001b[0m\u001b[1;33m\u001b[0m\u001b[1;33m\u001b[0m\u001b[0m\n\u001b[0;32m      8\u001b[0m     \u001b[0mfile\u001b[0m\u001b[1;33m.\u001b[0m\u001b[0mwrite\u001b[0m\u001b[1;33m(\u001b[0m\u001b[0mstr\u001b[0m\u001b[1;33m(\u001b[0m\u001b[0mids\u001b[0m\u001b[1;33m[\u001b[0m\u001b[0mi\u001b[0m\u001b[1;33m]\u001b[0m\u001b[1;33m)\u001b[0m \u001b[1;33m+\u001b[0m \u001b[1;34m\",\"\u001b[0m\u001b[1;33m)\u001b[0m\u001b[1;33m\u001b[0m\u001b[1;33m\u001b[0m\u001b[0m\n",
      "\u001b[1;32m<ipython-input-15-4f13bb099fc4>\u001b[0m in \u001b[0;36mget_youtube_ids\u001b[1;34m(link)\u001b[0m\n\u001b[0;32m      4\u001b[0m     \u001b[0melements\u001b[0m \u001b[1;33m=\u001b[0m \u001b[0mchrome\u001b[0m\u001b[1;33m.\u001b[0m\u001b[0mfind_elements_by_xpath\u001b[0m\u001b[1;33m(\u001b[0m\u001b[1;34m\"//a[@href]\"\u001b[0m\u001b[1;33m)\u001b[0m\u001b[1;33m\u001b[0m\u001b[1;33m\u001b[0m\u001b[0m\n\u001b[0;32m      5\u001b[0m     \u001b[1;32mfor\u001b[0m \u001b[0melem\u001b[0m \u001b[1;32min\u001b[0m \u001b[0melements\u001b[0m\u001b[1;33m:\u001b[0m\u001b[1;33m\u001b[0m\u001b[1;33m\u001b[0m\u001b[0m\n\u001b[1;32m----> 6\u001b[1;33m         \u001b[1;32mif\u001b[0m \u001b[1;34m\"youtube\"\u001b[0m \u001b[1;32min\u001b[0m \u001b[0melem\u001b[0m\u001b[1;33m.\u001b[0m\u001b[0mget_attribute\u001b[0m\u001b[1;33m(\u001b[0m\u001b[1;34m\"href\"\u001b[0m\u001b[1;33m)\u001b[0m\u001b[1;33m:\u001b[0m\u001b[1;33m\u001b[0m\u001b[1;33m\u001b[0m\u001b[0m\n\u001b[0m\u001b[0;32m      7\u001b[0m             \u001b[0my_links\u001b[0m\u001b[1;33m.\u001b[0m\u001b[0mappend\u001b[0m\u001b[1;33m(\u001b[0m\u001b[0melem\u001b[0m\u001b[1;33m.\u001b[0m\u001b[0mget_attribute\u001b[0m\u001b[1;33m(\u001b[0m\u001b[1;34m\"href\"\u001b[0m\u001b[1;33m)\u001b[0m\u001b[1;33m[\u001b[0m\u001b[1;36m32\u001b[0m\u001b[1;33m:\u001b[0m\u001b[1;33m]\u001b[0m\u001b[1;33m)\u001b[0m\u001b[1;33m\u001b[0m\u001b[1;33m\u001b[0m\u001b[0m\n\u001b[0;32m      8\u001b[0m     \u001b[1;32mreturn\u001b[0m \u001b[0my_links\u001b[0m\u001b[1;33m\u001b[0m\u001b[1;33m\u001b[0m\u001b[0m\n",
      "\u001b[1;32m~\\Anaconda3\\lib\\site-packages\\selenium\\webdriver\\remote\\webelement.py\u001b[0m in \u001b[0;36mget_attribute\u001b[1;34m(self, name)\u001b[0m\n\u001b[0;32m    139\u001b[0m             attributeValue = self.parent.execute_script(\n\u001b[0;32m    140\u001b[0m                 \u001b[1;34m\"return (%s).apply(null, arguments);\"\u001b[0m \u001b[1;33m%\u001b[0m \u001b[0mgetAttribute_js\u001b[0m\u001b[1;33m,\u001b[0m\u001b[1;33m\u001b[0m\u001b[1;33m\u001b[0m\u001b[0m\n\u001b[1;32m--> 141\u001b[1;33m                 self, name)\n\u001b[0m\u001b[0;32m    142\u001b[0m         \u001b[1;32melse\u001b[0m\u001b[1;33m:\u001b[0m\u001b[1;33m\u001b[0m\u001b[1;33m\u001b[0m\u001b[0m\n\u001b[0;32m    143\u001b[0m             \u001b[0mresp\u001b[0m \u001b[1;33m=\u001b[0m \u001b[0mself\u001b[0m\u001b[1;33m.\u001b[0m\u001b[0m_execute\u001b[0m\u001b[1;33m(\u001b[0m\u001b[0mCommand\u001b[0m\u001b[1;33m.\u001b[0m\u001b[0mGET_ELEMENT_ATTRIBUTE\u001b[0m\u001b[1;33m,\u001b[0m \u001b[1;33m{\u001b[0m\u001b[1;34m'name'\u001b[0m\u001b[1;33m:\u001b[0m \u001b[0mname\u001b[0m\u001b[1;33m}\u001b[0m\u001b[1;33m)\u001b[0m\u001b[1;33m\u001b[0m\u001b[1;33m\u001b[0m\u001b[0m\n",
      "\u001b[1;32m~\\Anaconda3\\lib\\site-packages\\selenium\\webdriver\\remote\\webdriver.py\u001b[0m in \u001b[0;36mexecute_script\u001b[1;34m(self, script, *args)\u001b[0m\n\u001b[0;32m    634\u001b[0m         return self.execute(command, {\n\u001b[0;32m    635\u001b[0m             \u001b[1;34m'script'\u001b[0m\u001b[1;33m:\u001b[0m \u001b[0mscript\u001b[0m\u001b[1;33m,\u001b[0m\u001b[1;33m\u001b[0m\u001b[1;33m\u001b[0m\u001b[0m\n\u001b[1;32m--> 636\u001b[1;33m             'args': converted_args})['value']\n\u001b[0m\u001b[0;32m    637\u001b[0m \u001b[1;33m\u001b[0m\u001b[0m\n\u001b[0;32m    638\u001b[0m     \u001b[1;32mdef\u001b[0m \u001b[0mexecute_async_script\u001b[0m\u001b[1;33m(\u001b[0m\u001b[0mself\u001b[0m\u001b[1;33m,\u001b[0m \u001b[0mscript\u001b[0m\u001b[1;33m,\u001b[0m \u001b[1;33m*\u001b[0m\u001b[0margs\u001b[0m\u001b[1;33m)\u001b[0m\u001b[1;33m:\u001b[0m\u001b[1;33m\u001b[0m\u001b[1;33m\u001b[0m\u001b[0m\n",
      "\u001b[1;32m~\\Anaconda3\\lib\\site-packages\\selenium\\webdriver\\remote\\webdriver.py\u001b[0m in \u001b[0;36mexecute\u001b[1;34m(self, driver_command, params)\u001b[0m\n\u001b[0;32m    319\u001b[0m         \u001b[0mresponse\u001b[0m \u001b[1;33m=\u001b[0m \u001b[0mself\u001b[0m\u001b[1;33m.\u001b[0m\u001b[0mcommand_executor\u001b[0m\u001b[1;33m.\u001b[0m\u001b[0mexecute\u001b[0m\u001b[1;33m(\u001b[0m\u001b[0mdriver_command\u001b[0m\u001b[1;33m,\u001b[0m \u001b[0mparams\u001b[0m\u001b[1;33m)\u001b[0m\u001b[1;33m\u001b[0m\u001b[1;33m\u001b[0m\u001b[0m\n\u001b[0;32m    320\u001b[0m         \u001b[1;32mif\u001b[0m \u001b[0mresponse\u001b[0m\u001b[1;33m:\u001b[0m\u001b[1;33m\u001b[0m\u001b[1;33m\u001b[0m\u001b[0m\n\u001b[1;32m--> 321\u001b[1;33m             \u001b[0mself\u001b[0m\u001b[1;33m.\u001b[0m\u001b[0merror_handler\u001b[0m\u001b[1;33m.\u001b[0m\u001b[0mcheck_response\u001b[0m\u001b[1;33m(\u001b[0m\u001b[0mresponse\u001b[0m\u001b[1;33m)\u001b[0m\u001b[1;33m\u001b[0m\u001b[1;33m\u001b[0m\u001b[0m\n\u001b[0m\u001b[0;32m    322\u001b[0m             response['value'] = self._unwrap_value(\n\u001b[0;32m    323\u001b[0m                 response.get('value', None))\n",
      "\u001b[1;32m~\\Anaconda3\\lib\\site-packages\\selenium\\webdriver\\remote\\errorhandler.py\u001b[0m in \u001b[0;36mcheck_response\u001b[1;34m(self, response)\u001b[0m\n\u001b[0;32m    240\u001b[0m                 \u001b[0malert_text\u001b[0m \u001b[1;33m=\u001b[0m \u001b[0mvalue\u001b[0m\u001b[1;33m[\u001b[0m\u001b[1;34m'alert'\u001b[0m\u001b[1;33m]\u001b[0m\u001b[1;33m.\u001b[0m\u001b[0mget\u001b[0m\u001b[1;33m(\u001b[0m\u001b[1;34m'text'\u001b[0m\u001b[1;33m)\u001b[0m\u001b[1;33m\u001b[0m\u001b[1;33m\u001b[0m\u001b[0m\n\u001b[0;32m    241\u001b[0m             \u001b[1;32mraise\u001b[0m \u001b[0mexception_class\u001b[0m\u001b[1;33m(\u001b[0m\u001b[0mmessage\u001b[0m\u001b[1;33m,\u001b[0m \u001b[0mscreen\u001b[0m\u001b[1;33m,\u001b[0m \u001b[0mstacktrace\u001b[0m\u001b[1;33m,\u001b[0m \u001b[0malert_text\u001b[0m\u001b[1;33m)\u001b[0m\u001b[1;33m\u001b[0m\u001b[1;33m\u001b[0m\u001b[0m\n\u001b[1;32m--> 242\u001b[1;33m         \u001b[1;32mraise\u001b[0m \u001b[0mexception_class\u001b[0m\u001b[1;33m(\u001b[0m\u001b[0mmessage\u001b[0m\u001b[1;33m,\u001b[0m \u001b[0mscreen\u001b[0m\u001b[1;33m,\u001b[0m \u001b[0mstacktrace\u001b[0m\u001b[1;33m)\u001b[0m\u001b[1;33m\u001b[0m\u001b[1;33m\u001b[0m\u001b[0m\n\u001b[0m\u001b[0;32m    243\u001b[0m \u001b[1;33m\u001b[0m\u001b[0m\n\u001b[0;32m    244\u001b[0m     \u001b[1;32mdef\u001b[0m \u001b[0m_value_or_default\u001b[0m\u001b[1;33m(\u001b[0m\u001b[0mself\u001b[0m\u001b[1;33m,\u001b[0m \u001b[0mobj\u001b[0m\u001b[1;33m,\u001b[0m \u001b[0mkey\u001b[0m\u001b[1;33m,\u001b[0m \u001b[0mdefault\u001b[0m\u001b[1;33m)\u001b[0m\u001b[1;33m:\u001b[0m\u001b[1;33m\u001b[0m\u001b[1;33m\u001b[0m\u001b[0m\n",
      "\u001b[1;31mStaleElementReferenceException\u001b[0m: Message: stale element reference: element is not attached to the page document\n  (Session info: chrome=75.0.3770.100)\n"
     ]
    }
   ],
   "source": [
    "file = open('youtube.csv', 'w')\n",
    "for i in range(len(ids)):\n",
    "    y_links = get_youtube_ids('https://www.altmetric.com/details/' + str(ids[i]) + '/video')\n",
    "    myset = get_all_pages('https://www.altmetric.com/details/' + str(ids[i]) + '/video')\n",
    "    for link in myset:\n",
    "        y_links.extend(get_youtube_ids(link))\n",
    "    df.at[i, 'youtube_links'] = y_links\n",
    "    file.write(str(ids[i]) + \",\")\n",
    "    file.write(\" \".join(y_links) + \"\\n\")"
   ]
  },
  {
   "cell_type": "code",
   "execution_count": 21,
   "metadata": {},
   "outputs": [],
   "source": [
    "file.close()"
   ]
  },
  {
   "cell_type": "code",
   "execution_count": null,
   "metadata": {},
   "outputs": [],
   "source": [
    "len(df.loc[4, 'youtube_links'])"
   ]
  },
  {
   "cell_type": "code",
   "execution_count": null,
   "metadata": {},
   "outputs": [],
   "source": [
    "df.to_csv(\"youtube_links.csv\")"
   ]
  },
  {
   "cell_type": "code",
   "execution_count": null,
   "metadata": {},
   "outputs": [],
   "source": [
    "alt_data['details_url']"
   ]
  },
  {
   "cell_type": "code",
   "execution_count": null,
   "metadata": {},
   "outputs": [],
   "source": [
    "def add_video(alt_id):\n",
    "    try:\n",
    "        response = requests.get(\"https://api.altmetric.com/v1/id/\" + str(alt_id))\n",
    "        if 'video' in dict(json.loads(response.content)):\n",
    "            return dict(json.loads(response.content))['video']\n",
    "    except:\n",
    "        return ''"
   ]
  },
  {
   "cell_type": "code",
   "execution_count": null,
   "metadata": {},
   "outputs": [],
   "source": [
    "param = {\"key\" : \"\"}"
   ]
  },
  {
   "cell_type": "code",
   "execution_count": null,
   "metadata": {},
   "outputs": [],
   "source": [
    "url_content = \"https://www.googleapis.com/youtube/v3/videos?part=snippet&key=&id=\""
   ]
  },
  {
   "cell_type": "code",
   "execution_count": null,
   "metadata": {},
   "outputs": [],
   "source": [
    "url = \"https://www.googleapis.com/youtube/v3/videos?part=snippet,statistics\""
   ]
  },
  {
   "cell_type": "code",
   "execution_count": null,
   "metadata": {},
   "outputs": [],
   "source": [
    "for alt_id in ids[5655:5755]:\n",
    "    mylist = []\n",
    "    alt_req = requests.get(\"https://api.altmetric.com/v1/id/\" + str(alt_id))\n",
    "    alt_rs= json.loads(alt_req.text)\n",
    "    mylist.append({str(alt_id) : alt_rs})\n",
    "    y_links = []\n",
    "    html = requests.get('https://www.altmetric.com/details/' + str(alt_id) + '/video').text\n",
    "    bs = BeautifulSoup(html)\n",
    "    possible_links = bs.find_all('a')\n",
    "    for link in possible_links:\n",
    "        if link.has_attr('href') and 'youtube' in link.attrs['href']:\n",
    "            y_links.append(link.attrs['href'])\n",
    "    youtube_data = []\n",
    "    for link in y_links:\n",
    "        param[\"id\"] = link[32:]\n",
    "        response_statistics = requests.get(url, param)\n",
    "        print(response_statistics.status_code)\n",
    "        json_statistics = json.loads(response_statistics.text)\n",
    "        youtube_data.append(json_statistics)\n",
    "    mylist.append({'youtube':youtube_data})\n",
    "    file = open(str(alt_id) + \".txt\", \"w+\")\n",
    "    json.dump(mylist, file)\n",
    "    file.close()"
   ]
  },
  {
   "cell_type": "code",
   "execution_count": null,
   "metadata": {},
   "outputs": [],
   "source": [
    "import os\n",
    "path = \"C:/Users/srika/Youtube_dataSet\"\n",
    "files = os.listdir(path)\n",
    "len(path)"
   ]
  },
  {
   "cell_type": "code",
   "execution_count": null,
   "metadata": {},
   "outputs": [],
   "source": [
    "for i in range(len(files)):\n",
    "    files[i] = os.path.abspath(path + \"/\" + files[i])"
   ]
  },
  {
   "cell_type": "code",
   "execution_count": null,
   "metadata": {},
   "outputs": [],
   "source": [
    "len(\"C:\\\\Users\\\\srika\\\\Youtube_dataSet\\\\\")"
   ]
  },
  {
   "cell_type": "code",
   "execution_count": null,
   "metadata": {},
   "outputs": [],
   "source": [
    "df_ = pd.DataFrame()\n",
    "col = ['cited_by_fbwalls_count', 'cited_by_feeds_count', 'cited_by_gplus_count', 'cited_by_msm_count', \n",
    "       'cited_by_posts_count', 'cited_by_rdts_count', 'cited_by_tweeters_count', 'cited_by_videos_count']"
   ]
  },
  {
   "cell_type": "code",
   "execution_count": null,
   "metadata": {},
   "outputs": [],
   "source": [
    "stats = ['viewCount', 'likeCount',  'dislikeCount', 'favoriteCount','commentCount']"
   ]
  },
  {
   "cell_type": "code",
   "execution_count": null,
   "metadata": {},
   "outputs": [],
   "source": [
    "i=0\n",
    "for file in files:\n",
    "    json_file = open(file, \"r\")\n",
    "    data = json.load(json_file)\n",
    "    df_.loc[i, \"altmetric_id\"] = file[31:-4]\n",
    "    for c in col:\n",
    "        try:\n",
    "            df_.loc[i, c] = data[0][file[31:-4]][c]\n",
    "        except KeyError:\n",
    "            df_.loc[i, c] = 0\n",
    "    i += 1\n",
    "    json_file.close\n",
    "    \n",
    "df_.head() "
   ]
  },
  {
   "cell_type": "code",
   "execution_count": null,
   "metadata": {},
   "outputs": [],
   "source": [
    "df_videos = pd.DataFrame()"
   ]
  },
  {
   "cell_type": "code",
   "execution_count": null,
   "metadata": {},
   "outputs": [],
   "source": [
    "i=0\n",
    "for file in files:\n",
    "    json_file = open(file, \"r\")\n",
    "    data = json.load(json_file)\n",
    "    for j in range(len(data[1]['youtube'])):\n",
    "        for stat in stats:\n",
    "            try:\n",
    "                df_videos.loc[i, 'altmetric_id'] = file[31:-4]\n",
    "                df_videos.loc[i, stat] = data[1]['youtube'][j]['items'][0]['statistics'][stat]\n",
    "            except IndexError:\n",
    "                df_videos.loc[i, stat] = 0\n",
    "            except KeyError:\n",
    "                df_videos.loc[i, stat] = 0\n",
    "        i += 1\n",
    "    json_file.close()\n",
    "df_videos.head()"
   ]
  },
  {
   "cell_type": "code",
   "execution_count": null,
   "metadata": {},
   "outputs": [],
   "source": [
    "df_.to_csv(\"altmetrics_data.csv\")"
   ]
  },
  {
   "cell_type": "code",
   "execution_count": null,
   "metadata": {},
   "outputs": [],
   "source": [
    "df_videos.to_csv(\"videos.csv\") "
   ]
  },
  {
   "cell_type": "code",
   "execution_count": null,
   "metadata": {},
   "outputs": [],
   "source": [
    "y_link = url_statistics +\"GSqdhz--yR8\"\n",
    "rs_st = requests.get(y_link)\n",
    "rs_st_d = json.loads(rs_st.text)\n",
    "rs_st_d"
   ]
  },
  {
   "cell_type": "code",
   "execution_count": null,
   "metadata": {},
   "outputs": [],
   "source": [
    "y_content = url_content + \"GSqdhz--yR8\"\n",
    "rs_ct = requests.get(y_link)\n",
    "rs_ct_d = json.loads(rs_st.text)\n",
    "rs_ct_d"
   ]
  },
  {
   "cell_type": "code",
   "execution_count": null,
   "metadata": {},
   "outputs": [],
   "source": [
    "social_media_columns = ['cited_by_fbwalls_count', 'cited_by_gplus_count', 'cited_by_msm_count', 'cited_by_posts_count', \n",
    "                        'cited_by_tweeters_count', 'cited_by_videos_count', 'cited_by_wikipedia_count', \n",
    "                        'cited_by_accounts_count',]"
   ]
  },
  {
   "cell_type": "code",
   "execution_count": null,
   "metadata": {},
   "outputs": [],
   "source": [
    "cols = ['title', 'doi']"
   ]
  },
  {
   "cell_type": "code",
   "execution_count": null,
   "metadata": {},
   "outputs": [],
   "source": [
    "for i in range(len(ids[:100])):\n",
    "    rs = requests.get(\"https://api.altmetric.com/v1/id/\" + str(ids[i]))\n",
    "    if (rs.status_code == 200):\n",
    "        rs_json = json.loads(rs.text)\n",
    "        for col in cols:\n",
    "            try:\n",
    "                df.loc[i, col] = rs_json[col]\n",
    "            except KeyError:\n",
    "                df.loc[i, col] = 0"
   ]
  },
  {
   "cell_type": "code",
   "execution_count": null,
   "metadata": {
    "scrolled": true
   },
   "outputs": [],
   "source": [
    "df.head()"
   ]
  },
  {
   "cell_type": "code",
   "execution_count": null,
   "metadata": {},
   "outputs": [],
   "source": [
    "df[:100].to_csv(path_or_buf = \".\\\\sample_dataset.csv\", index=False)"
   ]
  },
  {
   "cell_type": "code",
   "execution_count": null,
   "metadata": {},
   "outputs": [],
   "source": [
    "url_comments = \"https://www.googleapis.com/youtube/v3/commentThreads?part=snippet&videoId=_qUhIZcxNvE&key=\""
   ]
  },
  {
   "cell_type": "code",
   "execution_count": null,
   "metadata": {},
   "outputs": [],
   "source": [
    "response = requests.get(url)\n",
    "print(response.status_code)"
   ]
  },
  {
   "cell_type": "code",
   "execution_count": null,
   "metadata": {},
   "outputs": [],
   "source": [
    "json_data = json.loads(response.text)\n",
    "json_data.keys()"
   ]
  },
  {
   "cell_type": "code",
   "execution_count": null,
   "metadata": {},
   "outputs": [],
   "source": [
    "json_data[\"items\"][2]['snippet']['topLevelComment']['snippet']"
   ]
  },
  {
   "cell_type": "code",
   "execution_count": null,
   "metadata": {},
   "outputs": [],
   "source": [
    "lc = 0\n",
    "dc = 0\n",
    "for j in len(json_data['items']):\n",
    "    lc + = json_data['items'][j][\"likeCount\"]\n",
    "    dc + = json_data['items'][j][\"likeCount\"]"
   ]
  },
  {
   "cell_type": "code",
   "execution_count": null,
   "metadata": {},
   "outputs": [],
   "source": [
    "# add author information\n",
    "def add_all_info(alt_id):\n",
    "    # create the dict\n",
    "    result = defaultdict(dict)\n",
    "    try:\n",
    "        # make the request\n",
    "        response = requests.get(\"https://api.altmetric.com/v1/id/\" + str(alt_id))\n",
    "\n",
    "        # add the values to the dict\n",
    "        if 'authors' in dict(json.loads(response.content)):\n",
    "            result['author_count'] = len(dict(json.loads(response.content))['authors'])\n",
    "            result['authors'] = ', '.join(dict(json.loads(response.content))['authors'])\n",
    "        else:\n",
    "            result['author_count'] = ''\n",
    "            result['authors'] = ''\n",
    "\n",
    "         # add the values to the dict\n",
    "        if 'doi' in dict(json.loads(response.content)):\n",
    "            result['doi'] = dict(json.loads(response.content))['doi']\n",
    "        else:\n",
    "            result['doi'] = ''\n",
    "\n",
    "        # add the abstract\n",
    "        if 'abstract' in dict(json.loads(response.content)):\n",
    "            result['abstract'] = dict(json.loads(response.content))['abstract']\n",
    "        else:\n",
    "            result['abstract'] = ''\n",
    "\n",
    "        # add the pubdate\n",
    "        if 'published_on' in dict(json.loads(response.content)):\n",
    "            result['pub_date'] = dict(json.loads(response.content))['published_on']\n",
    "        else:\n",
    "            result['pub_date'] = ''\n",
    "\n",
    "        # add the twitter posts count as of 2018/19\n",
    "        if 'cited_by_tweeters_count' in dict(json.loads(response.content)):\n",
    "            result['twitter_count_y18'] = dict(json.loads(response.content))['cited_by_tweeters_count']\n",
    "        else:\n",
    "            result['twitter_count_y18'] = ''\n",
    "\n",
    "        # add the title of the article\n",
    "        if 'title' in dict(json.loads(response.content)):\n",
    "            result['title'] =  dict(json.loads(response.content))['title']\n",
    "        else:\n",
    "            result['title'] = ''\n",
    "\n",
    "        # return the result\n",
    "        return result\n",
    "    except:\n",
    "        return result"
   ]
  },
  {
   "cell_type": "code",
   "execution_count": null,
   "metadata": {},
   "outputs": [],
   "source": [
    "r = add_all_info(702709 )"
   ]
  },
  {
   "cell_type": "code",
   "execution_count": null,
   "metadata": {},
   "outputs": [],
   "source": [
    "r.keys()"
   ]
  },
  {
   "cell_type": "code",
   "execution_count": null,
   "metadata": {},
   "outputs": [],
   "source": [
    "rs_ = requests.get(\"https://api.altmetric.com/v1/id/\" + str(2394296))"
   ]
  },
  {
   "cell_type": "code",
   "execution_count": null,
   "metadata": {},
   "outputs": [],
   "source": [
    "rs_js = json.loads(rs_.text)"
   ]
  },
  {
   "cell_type": "code",
   "execution_count": null,
   "metadata": {},
   "outputs": [],
   "source": [
    "rs_js.keys()"
   ]
  },
  {
   "cell_type": "code",
   "execution_count": null,
   "metadata": {},
   "outputs": [],
   "source": [
    "fl = open(\"temp.txt\", 'w+')"
   ]
  },
  {
   "cell_type": "code",
   "execution_count": null,
   "metadata": {},
   "outputs": [],
   "source": [
    "json.dump(rs_js, fl)"
   ]
  },
  {
   "cell_type": "code",
   "execution_count": null,
   "metadata": {},
   "outputs": [],
   "source": [
    "rs_js['cited_by_accounts_count']"
   ]
  },
  {
   "cell_type": "code",
   "execution_count": null,
   "metadata": {},
   "outputs": [],
   "source": [
    "rs_js['cited_by_videos_count']"
   ]
  },
  {
   "cell_type": "code",
   "execution_count": null,
   "metadata": {},
   "outputs": [],
   "source": [
    "response_statistics = requests.get(url_statistics)\n",
    "print(response.status_code)"
   ]
  },
  {
   "cell_type": "code",
   "execution_count": null,
   "metadata": {},
   "outputs": [],
   "source": [
    "json_statistics = json.loads(response_statistics.text)\n",
    "json_statistics.keys()"
   ]
  },
  {
   "cell_type": "code",
   "execution_count": null,
   "metadata": {},
   "outputs": [],
   "source": [
    "json_statistics['items']"
   ]
  },
  {
   "cell_type": "code",
   "execution_count": null,
   "metadata": {},
   "outputs": [],
   "source": []
  }
 ],
 "metadata": {
  "kernelspec": {
   "display_name": "Python 3",
   "language": "python",
   "name": "python3"
  },
  "language_info": {
   "codemirror_mode": {
    "name": "ipython",
    "version": 3
   },
   "file_extension": ".py",
   "mimetype": "text/x-python",
   "name": "python",
   "nbconvert_exporter": "python",
   "pygments_lexer": "ipython3",
   "version": "3.6.8"
  }
 },
 "nbformat": 4,
 "nbformat_minor": 2
}
