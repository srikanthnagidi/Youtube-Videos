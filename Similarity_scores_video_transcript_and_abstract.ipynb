{
 "cells": [
  {
   "cell_type": "code",
   "execution_count": 1,
   "metadata": {},
   "outputs": [],
   "source": [
    "import pandas as pd\n",
    "import ast"
   ]
  },
  {
   "cell_type": "code",
   "execution_count": 2,
   "metadata": {},
   "outputs": [],
   "source": [
    "df_transcripts = pd.read_json(\"transcript1.txt\", orient=\"index\")\n",
    "\n",
    "df_transcripts = df_transcripts.drop([\"altmetric_id\", \"abstract\"], axis=1)"
   ]
  },
  {
   "cell_type": "code",
   "execution_count": 3,
   "metadata": {},
   "outputs": [],
   "source": [
    "df_transcripts = df_transcripts.dropna()\n",
    "ids_with_transcripts = df_transcripts.id.values"
   ]
  },
  {
   "cell_type": "code",
   "execution_count": 4,
   "metadata": {},
   "outputs": [],
   "source": [
    "df = pd.read_csv(\"combined_with_news_n_blogs.csv\", header=0)\n",
    "\n",
    "df_id_video = pd.DataFrame(columns = [\"altmetric_id\", \"video_id\", \"abstract\", \"transcript\"])\n",
    "\n",
    "df = df[df.link != '0']"
   ]
  },
  {
   "cell_type": "code",
   "execution_count": 6,
   "metadata": {},
   "outputs": [],
   "source": [
    "i=0\n",
    "for index, row in df.iterrows():\n",
    "    video_ids = ast.literal_eval(row['link'])\n",
    "    for v_id in video_ids:\n",
    "        if v_id in ids_with_transcripts:\n",
    "            df_id_video.loc[i, \"video_id\"] = v_id\n",
    "            df_id_video.loc[i, \"altmetric_id\"] = row['altmetric_id']\n",
    "            df_id_video.loc[i, \"abstract\"] = row[\"abstract\"]\n",
    "    i=i+1"
   ]
  },
  {
   "cell_type": "code",
   "execution_count": 7,
   "metadata": {},
   "outputs": [],
   "source": [
    "for index, row in df_id_video.iterrows():\n",
    "    df_id_video.loc[index, \"transcript\"] = df_transcripts.loc[df_transcripts.id == row[\"video_id\"], \"transcript\"].values[0]"
   ]
  },
  {
   "cell_type": "code",
   "execution_count": 8,
   "metadata": {},
   "outputs": [],
   "source": [
    "df_id_video = df_id_video[df_id_video.abstract != \"0\"]"
   ]
  },
  {
   "cell_type": "code",
   "execution_count": 9,
   "metadata": {},
   "outputs": [],
   "source": [
    "from sklearn.feature_extraction.text import TfidfVectorizer\n",
    "vectorizer = TfidfVectorizer()\n",
    "def cosine_sim(d1, d2):\n",
    "    tfidf = vectorizer.fit_transform([d1, d2])\n",
    "    return ((tfidf * tfidf.T).A)[0,1]\n"
   ]
  },
  {
   "cell_type": "code",
   "execution_count": 10,
   "metadata": {},
   "outputs": [],
   "source": [
    "df_id_video[\"score\"] = 0\n",
    "for index, row in df_id_video.iterrows():\n",
    "    df_id_video.loc[index, \"score\"] = cosine_sim(row['abstract'], row['transcript'])"
   ]
  },
  {
   "cell_type": "code",
   "execution_count": 12,
   "metadata": {},
   "outputs": [
    {
     "data": {
      "text/plain": [
       "17"
      ]
     },
     "execution_count": 12,
     "metadata": {},
     "output_type": "execute_result"
    }
   ],
   "source": [
    "#scores with greater than 0.75\n",
    "import numpy as np\n",
    "len(np.where(df_id_video['score']>0.75)[0])"
   ]
  },
  {
   "cell_type": "code",
   "execution_count": 14,
   "metadata": {},
   "outputs": [
    {
     "data": {
      "text/plain": [
       "2522"
      ]
     },
     "execution_count": 14,
     "metadata": {},
     "output_type": "execute_result"
    }
   ],
   "source": [
    "#scores with greater than 0.5 and less than 0.75\n",
    "len(np.where(df_id_video['score']>0.50 )[0]) - len(np.where(df_id_video['score']>0.75 )[0])"
   ]
  },
  {
   "cell_type": "code",
   "execution_count": 15,
   "metadata": {},
   "outputs": [
    {
     "data": {
      "text/plain": [
       "9602"
      ]
     },
     "execution_count": 15,
     "metadata": {},
     "output_type": "execute_result"
    }
   ],
   "source": [
    "#scores with greater than 0.5 and less than 0.75\n",
    "len(np.where(df_id_video['score']>0.25 )[0]) - len(np.where(df_id_video['score']>0.50 )[0])"
   ]
  },
  {
   "cell_type": "code",
   "execution_count": 17,
   "metadata": {},
   "outputs": [
    {
     "data": {
      "text/plain": [
       "2138"
      ]
     },
     "execution_count": 17,
     "metadata": {},
     "output_type": "execute_result"
    }
   ],
   "source": [
    "len(np.where(df_id_video['score']<=0.25)[0])"
   ]
  },
  {
   "cell_type": "code",
   "execution_count": null,
   "metadata": {},
   "outputs": [],
   "source": []
  }
 ],
 "metadata": {
  "kernelspec": {
   "display_name": "Python 3",
   "language": "python",
   "name": "python3"
  },
  "language_info": {
   "codemirror_mode": {
    "name": "ipython",
    "version": 3
   },
   "file_extension": ".py",
   "mimetype": "text/x-python",
   "name": "python",
   "nbconvert_exporter": "python",
   "pygments_lexer": "ipython3",
   "version": "3.6.8"
  }
 },
 "nbformat": 4,
 "nbformat_minor": 2
}
